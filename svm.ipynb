{
 "cells": [
  {
   "cell_type": "markdown",
   "metadata": {},
   "source": []
  },
  {
   "cell_type": "code",
   "execution_count": 1,
   "metadata": {},
   "outputs": [],
   "source": [
    "import pandas as pd\n",
    "from sklearn import svm\n",
    "from sklearn.datasets import load_svmlight_file\n",
    "from sklearn.model_selection import cross_val_score\n",
    "from joblib import Memory\n",
    "from pathlib import Path\n"
   ]
  },
  {
   "cell_type": "code",
   "execution_count": 2,
   "metadata": {},
   "outputs": [],
   "source": [
    "train_path = Path(\"artifacts/a9a_test.txt\")\n",
    "test_path = Path(\"artifacts/a9a_training.txt\")\n",
    "\n",
    "mem = Memory(\"./mycache\")\n",
    "\n",
    "@mem.cache\n",
    "def get_data(path):\n",
    "    data = load_svmlight_file(\n",
    "        f=path,\n",
    "        n_features=123)\n",
    "    return data[0], data[1]\n",
    "\n",
    "X_train, y_train = get_data(train_path)\n",
    "X_test, y_test = get_data(test_path)"
   ]
  },
  {
   "cell_type": "markdown",
   "metadata": {},
   "source": [
    "## Preparing SVM Model Class\n",
    "\n",
    "We will run the SVM models using two types of kernel - Linear and RBF over a set of gamma and C (regularisation) hyperparameters  \n",
    "- Linear SVM\n",
    "- RBF SVM"
   ]
  },
  {
   "cell_type": "code",
   "execution_count": 4,
   "metadata": {},
   "outputs": [],
   "source": [
    "class svc_model:\n",
    "    def __init__ (self, X_train, y_train, X_test, y_test, C:float=1, kernel:str='rbf', gamma:float='scale'):\n",
    "        \"\"\"\n",
    "        Instantiate a SVM model with default parameters\n",
    "        Args:\n",
    "            X_train\n",
    "            y_train\n",
    "            x_test\n",
    "            y_test\n",
    "            C [float]: regularisation hyperparameter\n",
    "            kernel [str]: choice of kernel hyperparameter\n",
    "            gamma [float]: kernel coefficient. default is 'scale'\n",
    "\n",
    "        \"\"\"\n",
    "        self.X_train = X_train\n",
    "        self.y_train = y_train\n",
    "        self.X_test = X_test\n",
    "        self.y_test = y_test\n",
    "        if kernel == 'linear':\n",
    "            self.svc = svm.LinearSVC(C=C,dual=False)\n",
    "        elif kernel == 'rbf':\n",
    "            self.svc = svm.SVC(C=C,kernel=kernel,gamma=gamma)\n",
    "        else:\n",
    "            print(\"Kernel specified not in list of kernels available in this class\")\n",
    "\n",
    "    def fit (self):\n",
    "        self.svc.fit(self.X_train, self.y_train)\n",
    "\n",
    "    def predict(self):\n",
    "        \"\"\"\n",
    "        Class function for prediction method using X test set\n",
    "\n",
    "        Returns:\n",
    "            pred []: \n",
    "        \"\"\"\n",
    "        return self.svc.predict(self.X_test)\n",
    "    \n",
    "    def score(self):\n",
    "        \"\"\"\n",
    "        Class function to score using test data\n",
    "\n",
    "        Returns:\n",
    "            scores [ndarray]:A rray of scores of the estimator \n",
    "        \"\"\"\n",
    "        return self.svc.score(self.X_test, self.y_test)\n",
    "    \n",
    "    def cross_val_score(self, cv:float, scoring:str, data_type:str='training'):\n",
    "        \"\"\"\n",
    "        Class function to score using k-fold cross validations\n",
    "\n",
    "        Args:\n",
    "            cv [float]: k-folds for cross validation\n",
    "            scoring [str]: A str or a scorer callable object/function with signature scorer(estimator, X, y) which should return only a single value. default = None\n",
    "            data_type [str]: scoring using either training or test set. Default is training\n",
    "\n",
    "        Returns:\n",
    "            scores [ndarray]: Array of scores of the estimator for each run of the cross validation\n",
    "        \"\"\"\n",
    "\n",
    "        if data_type == 'training':\n",
    "            scores = cross_val_score(estimator=self.svc, X=self.X_train, y=self.y_train, cv=cv)\n",
    "        elif data_type == 'test':\n",
    "            scores = cross_val_score(estimator=self.svc, X=self.X_test, y=self.y_test, cv=cv)\n",
    "\n",
    "        return scores"
   ]
  },
  {
   "cell_type": "markdown",
   "metadata": {},
   "source": [
    "### Linear Kernel"
   ]
  },
  {
   "cell_type": "code",
   "execution_count": 9,
   "metadata": {},
   "outputs": [
    {
     "name": "stdout",
     "output_type": "stream",
     "text": [
      "Running SVM model with the following model hyperparameters: C=0.01, kernel: linear\n",
      "Running SVM model with the following model hyperparameters: C=0.05, kernel: linear\n",
      "Running SVM model with the following model hyperparameters: C=0.1, kernel: linear\n",
      "Running SVM model with the following model hyperparameters: C=0.5, kernel: linear\n",
      "Running SVM model with the following model hyperparameters: C=1, kernel: linear\n"
     ]
    }
   ],
   "source": [
    "# regularisation parameters \n",
    "C_lst = [0.01, 0.05, 0.1, 0.5, 1]\n",
    "\n",
    "# accuracy results using linear kernel\n",
    "\n",
    "# initialising empty dict to store results\n",
    "linear_accuracy_results = {}\n",
    "\n",
    "# initialise counter\n",
    "counter = 0\n",
    "\n",
    "for C in C_lst:\n",
    "    print(f'Running SVM model with the following model hyperparameters: C={C}, kernel: linear')\n",
    "    # instantiate SVC model\n",
    "    svc = svc_model(X_train, y_train, X_test, y_test,C=C,kernel='linear')\n",
    "    svc.fit() # fit data\n",
    "    # compute cross-validated metrics\n",
    "    scores = svc.cross_val_score(cv=3, scoring='accuracy',data_type='training') \n",
    "    linear_accuracy_results[counter] = {'C':C, 'accuracy':round(scores.mean(),5)}\n",
    "    \n",
    "    counter +=1"
   ]
  },
  {
   "cell_type": "code",
   "execution_count": 10,
   "metadata": {},
   "outputs": [
    {
     "name": "stdout",
     "output_type": "stream",
     "text": [
      "{'C': 0.01, 'accuracy': 0.84958}\n",
      "{'C': 0.05, 'accuracy': 0.85038}\n",
      "{'C': 0.1, 'accuracy': 0.85038}\n",
      "{'C': 0.5, 'accuracy': 0.8505}\n",
      "{'C': 1, 'accuracy': 0.85032}\n"
     ]
    }
   ],
   "source": [
    "for i in linear_accuracy_results:\n",
    "    print(linear_accuracy_results[i])"
   ]
  },
  {
   "cell_type": "markdown",
   "metadata": {},
   "source": [
    "### RBF kernel"
   ]
  },
  {
   "cell_type": "code",
   "execution_count": 12,
   "metadata": {},
   "outputs": [
    {
     "name": "stdout",
     "output_type": "stream",
     "text": [
      "Running SVM model with the following model hyperparameters: C=0.01, gamma=0.01, kernel: rbf\n",
      "Running SVM model with the following model hyperparameters: C=0.01, gamma=0.05, kernel: rbf\n",
      "Running SVM model with the following model hyperparameters: C=0.01, gamma=0.1, kernel: rbf\n",
      "Running SVM model with the following model hyperparameters: C=0.01, gamma=0.5, kernel: rbf\n",
      "Running SVM model with the following model hyperparameters: C=0.01, gamma=1, kernel: rbf\n",
      "Running SVM model with the following model hyperparameters: C=0.05, gamma=0.01, kernel: rbf\n",
      "Running SVM model with the following model hyperparameters: C=0.05, gamma=0.05, kernel: rbf\n",
      "Running SVM model with the following model hyperparameters: C=0.05, gamma=0.1, kernel: rbf\n",
      "Running SVM model with the following model hyperparameters: C=0.05, gamma=0.5, kernel: rbf\n",
      "Running SVM model with the following model hyperparameters: C=0.05, gamma=1, kernel: rbf\n",
      "Running SVM model with the following model hyperparameters: C=0.1, gamma=0.01, kernel: rbf\n",
      "Running SVM model with the following model hyperparameters: C=0.1, gamma=0.05, kernel: rbf\n",
      "Running SVM model with the following model hyperparameters: C=0.1, gamma=0.1, kernel: rbf\n",
      "Running SVM model with the following model hyperparameters: C=0.1, gamma=0.5, kernel: rbf\n",
      "Running SVM model with the following model hyperparameters: C=0.1, gamma=1, kernel: rbf\n",
      "Running SVM model with the following model hyperparameters: C=0.5, gamma=0.01, kernel: rbf\n",
      "Running SVM model with the following model hyperparameters: C=0.5, gamma=0.05, kernel: rbf\n",
      "Running SVM model with the following model hyperparameters: C=0.5, gamma=0.1, kernel: rbf\n",
      "Running SVM model with the following model hyperparameters: C=0.5, gamma=0.5, kernel: rbf\n",
      "Running SVM model with the following model hyperparameters: C=0.5, gamma=1, kernel: rbf\n",
      "Running SVM model with the following model hyperparameters: C=1, gamma=0.01, kernel: rbf\n",
      "Running SVM model with the following model hyperparameters: C=1, gamma=0.05, kernel: rbf\n",
      "Running SVM model with the following model hyperparameters: C=1, gamma=0.1, kernel: rbf\n",
      "Running SVM model with the following model hyperparameters: C=1, gamma=0.5, kernel: rbf\n",
      "Running SVM model with the following model hyperparameters: C=1, gamma=1, kernel: rbf\n"
     ]
    }
   ],
   "source": [
    "# regularisation parameters \n",
    "C_lst = [0.01, 0.05, 0.1, 0.5, 1]\n",
    "# gamma parameters\n",
    "gamma_list = [0.01, 0.05, 0.1, 0.5, 1]\n",
    "\n",
    "# accuracy results using rbf kernel\n",
    "\n",
    "# initialising empty dict to store results\n",
    "rbf_accuracy_results = {}\n",
    "counter = 0\n",
    "\n",
    "for C in C_lst:\n",
    "    for gamma in gamma_list:\n",
    "        print(f'Running SVM model with the following model hyperparameters: C={C}, gamma={gamma}, kernel: rbf')\n",
    "\n",
    "        # instantiate SVC model\n",
    "        svc = svc_model(X_train, y_train, X_test, y_test,C=C,kernel='rbf',gamma=gamma)\n",
    "        svc.fit() # fit data\n",
    "        # compute cross-validated metrics\n",
    "        scores = svc.cross_val_score(cv=3,scoring='accuracy',data_type='training') \n",
    "        rbf_accuracy_results[counter] = {'C':C, 'gamma':gamma, 'accuracy': round(scores.mean(),5)}\n",
    "        counter += 1"
   ]
  },
  {
   "cell_type": "code",
   "execution_count": 13,
   "metadata": {},
   "outputs": [
    {
     "name": "stdout",
     "output_type": "stream",
     "text": [
      "{'C': 0.01, 'gamma': 0.01, 'accuracy': 0.76377}\n",
      "{'C': 0.01, 'gamma': 0.05, 'accuracy': 0.76433}\n",
      "{'C': 0.01, 'gamma': 0.1, 'accuracy': 0.77096}\n",
      "{'C': 0.01, 'gamma': 0.5, 'accuracy': 0.76377}\n",
      "{'C': 0.01, 'gamma': 1, 'accuracy': 0.76377}\n",
      "{'C': 0.05, 'gamma': 0.01, 'accuracy': 0.78871}\n",
      "{'C': 0.05, 'gamma': 0.05, 'accuracy': 0.83293}\n",
      "{'C': 0.05, 'gamma': 0.1, 'accuracy': 0.83029}\n",
      "{'C': 0.05, 'gamma': 0.5, 'accuracy': 0.76961}\n",
      "{'C': 0.05, 'gamma': 1, 'accuracy': 0.76377}\n",
      "{'C': 0.1, 'gamma': 0.01, 'accuracy': 0.83226}\n",
      "{'C': 0.1, 'gamma': 0.05, 'accuracy': 0.83754}\n",
      "{'C': 0.1, 'gamma': 0.1, 'accuracy': 0.83717}\n",
      "{'C': 0.1, 'gamma': 0.5, 'accuracy': 0.79092}\n",
      "{'C': 0.1, 'gamma': 1, 'accuracy': 0.76377}\n",
      "{'C': 0.5, 'gamma': 0.01, 'accuracy': 0.84411}\n",
      "{'C': 0.5, 'gamma': 0.05, 'accuracy': 0.84546}\n",
      "{'C': 0.5, 'gamma': 0.1, 'accuracy': 0.84559}\n",
      "{'C': 0.5, 'gamma': 0.5, 'accuracy': 0.82507}\n",
      "{'C': 0.5, 'gamma': 1, 'accuracy': 0.77772}\n",
      "{'C': 1, 'gamma': 0.01, 'accuracy': 0.84682}\n",
      "{'C': 1, 'gamma': 0.05, 'accuracy': 0.84589}\n",
      "{'C': 1, 'gamma': 0.1, 'accuracy': 0.84651}\n",
      "{'C': 1, 'gamma': 0.5, 'accuracy': 0.82956}\n",
      "{'C': 1, 'gamma': 1, 'accuracy': 0.78668}\n"
     ]
    }
   ],
   "source": [
    "for i in rbf_accuracy_results:\n",
    "    print(rbf_accuracy_results[i])"
   ]
  },
  {
   "cell_type": "markdown",
   "metadata": {},
   "source": [
    "## Optimal Hyperparameters\n",
    "\n",
    "Determine which hyperparameters (gamma, C) and kernel used has the best model accuracy"
   ]
  },
  {
   "cell_type": "code",
   "execution_count": 14,
   "metadata": {},
   "outputs": [],
   "source": [
    "def find_optimal_parameter (accuracy_results):\n",
    "    \"\"\"\n",
    "    Function to determine optimal index for accuracy results\n",
    "\n",
    "    Args:\n",
    "        accuracy_results [dict] = two layers nested dictionary of accuracy results E.g. {0: {accuracy: value}, 1: {accuracy: value}}\n",
    "    Returns:\n",
    "        index [int]: index of accuracy_results which has the highest accuracy score\n",
    "    \"\"\"\n",
    "    # initialise reference using first row\n",
    "    accuracy = accuracy_results[0]['accuracy']\n",
    "    index = 0\n",
    "\n",
    "    # check for highest accuracy and record index\n",
    "    for i in range(len(accuracy_results))[:-1]:\n",
    "        if accuracy_results[i+1]['accuracy'] > accuracy:\n",
    "            accuracy = rbf_accuracy_results[i+1]['accuracy']\n",
    "            index = i+1\n",
    "\n",
    "    return index"
   ]
  },
  {
   "cell_type": "markdown",
   "metadata": {},
   "source": [
    "Optimal Parameter for Linear SVM"
   ]
  },
  {
   "cell_type": "code",
   "execution_count": 15,
   "metadata": {},
   "outputs": [
    {
     "data": {
      "text/plain": [
       "{'C': 1, 'accuracy': 0.85032}"
      ]
     },
     "execution_count": 15,
     "metadata": {},
     "output_type": "execute_result"
    }
   ],
   "source": [
    "linear_accuracy_results[find_optimal_parameter(linear_accuracy_results)]"
   ]
  },
  {
   "cell_type": "markdown",
   "metadata": {},
   "source": [
    "Optimal Parameter for RBF SVM"
   ]
  },
  {
   "cell_type": "code",
   "execution_count": 16,
   "metadata": {},
   "outputs": [
    {
     "data": {
      "text/plain": [
       "{'C': 1, 'gamma': 0.01, 'accuracy': 0.84682}"
      ]
     },
     "execution_count": 16,
     "metadata": {},
     "output_type": "execute_result"
    }
   ],
   "source": [
    "rbf_accuracy_results[find_optimal_parameter(rbf_accuracy_results)]"
   ]
  },
  {
   "cell_type": "markdown",
   "metadata": {},
   "source": [
    "The best kernel and best parameter setting will be the linear kernel with the following parameter settings: C - 1"
   ]
  },
  {
   "cell_type": "code",
   "execution_count": 17,
   "metadata": {},
   "outputs": [],
   "source": [
    "kernel = 'linear'\n",
    "C = 1\n",
    "\n",
    "# instantiate SVC model\n",
    "svc = svc_model(X_train, y_train, X_test, y_test,C=C,kernel=kernel)\n",
    "svc.fit() # fit data\n",
    "# compute cross-validated metrics\n",
    "scores = svc.cross_val_score(cv=3,scoring='accuracy',data_type='test') "
   ]
  },
  {
   "cell_type": "code",
   "execution_count": 18,
   "metadata": {},
   "outputs": [
    {
     "name": "stdout",
     "output_type": "stream",
     "text": [
      "0.84733\n"
     ]
    }
   ],
   "source": [
    "print(round(scores.mean(),5))"
   ]
  }
 ],
 "metadata": {
  "kernelspec": {
   "display_name": ".venv",
   "language": "python",
   "name": "python3"
  },
  "language_info": {
   "codemirror_mode": {
    "name": "ipython",
    "version": 3
   },
   "file_extension": ".py",
   "mimetype": "text/x-python",
   "name": "python",
   "nbconvert_exporter": "python",
   "pygments_lexer": "ipython3",
   "version": "3.11.3"
  },
  "orig_nbformat": 4
 },
 "nbformat": 4,
 "nbformat_minor": 2
}
