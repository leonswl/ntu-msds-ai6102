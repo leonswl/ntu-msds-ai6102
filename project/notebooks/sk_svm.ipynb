{
 "cells": [
  {
   "cell_type": "markdown",
   "metadata": {},
   "source": [
    "## Scikit-learn Support Vector Machines\n",
    "\n",
    "Notebook for showcasing model usage"
   ]
  },
  {
   "cell_type": "code",
   "execution_count": 7,
   "metadata": {},
   "outputs": [],
   "source": [
    "import os\n",
    "import sys\n",
    "import pandas as pd\n",
    "# the models dir contains tf_gbt.py\n",
    "sys.path.append(os.path.join(os.path.abspath(''), \"../models\"))\n",
    "from sk_svm import SVM, load_datasets"
   ]
  },
  {
   "cell_type": "markdown",
   "metadata": {},
   "source": [
    "### Model Configurations and Datasets"
   ]
  },
  {
   "cell_type": "markdown",
   "metadata": {},
   "source": [
    "We wil declare configurations for the model "
   ]
  },
  {
   "cell_type": "code",
   "execution_count": 12,
   "metadata": {},
   "outputs": [],
   "source": [
    "data_path = \"../data\"\n",
    "\n",
    "output_path = \"../submissions\"\n",
    "\n",
    "# set parameters\n",
    "select_features = ['CryoSleep','Age','RoomService','Cabin_num','FoodCourt', 'ShoppingMall', 'Spa', 'HomePlanet', 'Side', 'Deck', 'Transported', 'VRDeck','Destination']\n",
    "\n",
    "label = 'Transported'\n",
    "\n",
    "# hyperparameters\n",
    "kernel = 'rbf'\n",
    "C = 1.0\n",
    "gamma = 0.1"
   ]
  },
  {
   "cell_type": "markdown",
   "metadata": {},
   "source": [
    "Let's load the data sets"
   ]
  },
  {
   "cell_type": "code",
   "execution_count": 5,
   "metadata": {},
   "outputs": [],
   "source": [
    "# load datasets\n",
    "train_df, valid_df, test_df = load_datasets(data_path=data_path)"
   ]
  },
  {
   "cell_type": "markdown",
   "metadata": {},
   "source": [
    "### Running scikit-learn Support Vector Machines experiments"
   ]
  },
  {
   "cell_type": "markdown",
   "metadata": {},
   "source": [
    "We will first instantiate the sklearn SVM model using the predefined configurations and datasets. \n",
    "\n",
    "We will use the optimal hyperparameters previously generated to run a model experiment. \n",
    "GridSearchCV iteration takes up a long time and will not be demonstrated in this notebook"
   ]
  },
  {
   "cell_type": "code",
   "execution_count": 13,
   "metadata": {},
   "outputs": [],
   "source": [
    "# experiment SVM models\n",
    "clf = SVM(train_df=train_df,valid_df=valid_df, test_df=test_df,label=label)\n",
    "clf.feature_selection(selected_features=select_features)\n",
    "clf.prepare_data(encoder=\"OneHotEncoder\")\n",
    "clf.create_svm_model(kernel=kernel, C=C, gamma=gamma)\n",
    "clf.run_experiments()"
   ]
  },
  {
   "cell_type": "markdown",
   "metadata": {},
   "source": [
    "Accuracy metric using validation datasets for evaluation"
   ]
  },
  {
   "cell_type": "code",
   "execution_count": 21,
   "metadata": {},
   "outputs": [
    {
     "name": "stdout",
     "output_type": "stream",
     "text": [
      "\n",
      "      Accuracy score is 0.7508630609896433; \n",
      "      F1 score is 0.7512923607122344; \n",
      "      Recall score is 0.7908101571946796; \n",
      "      Precision score is 0.7155361050328227\n"
     ]
    }
   ],
   "source": [
    "# evaluate model using validation set and get model metrics\n",
    "accuracy_score, f1_score, recall_score, precision_score = clf.evaluate()\n",
    "print(f\"\"\"\n",
    "      Accuracy score is {accuracy_score}; \n",
    "      F1 score is {f1_score}; \n",
    "      Recall score is {precision_score}; \n",
    "      Precision score is {recall_score}\"\"\")"
   ]
  },
  {
   "cell_type": "markdown",
   "metadata": {},
   "source": [
    "Predict test data"
   ]
  },
  {
   "cell_type": "code",
   "execution_count": 15,
   "metadata": {},
   "outputs": [],
   "source": [
    "# predict test data\n",
    "predictions, output = clf.predict()"
   ]
  },
  {
   "cell_type": "markdown",
   "metadata": {},
   "source": [
    "### Export output as csv for submission"
   ]
  },
  {
   "cell_type": "code",
   "execution_count": null,
   "metadata": {},
   "outputs": [],
   "source": [
    "# export output to path\n",
    "# os.makedirs(output_path, exist_ok=True) \n",
    "# output.to_csv(os.path.join(os.path.abspath(''),output_path,\"sk_svm.csv\"),index=False)"
   ]
  }
 ],
 "metadata": {
  "kernelspec": {
   "display_name": ".venv",
   "language": "python",
   "name": "python3"
  },
  "language_info": {
   "codemirror_mode": {
    "name": "ipython",
    "version": 3
   },
   "file_extension": ".py",
   "mimetype": "text/x-python",
   "name": "python",
   "nbconvert_exporter": "python",
   "pygments_lexer": "ipython3",
   "version": "3.11.3"
  }
 },
 "nbformat": 4,
 "nbformat_minor": 2
}
